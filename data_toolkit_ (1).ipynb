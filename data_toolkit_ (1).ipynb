{
  "cells": [
    {
      "cell_type": "markdown",
      "metadata": {
        "id": "3m1y73owXrCE"
      },
      "source": [
        "# Theoretical Question"
      ]
    },
    {
      "cell_type": "markdown",
      "metadata": {
        "id": "vDWbRZc7dpnN"
      },
      "source": [
        "1.What is NumPy, and why is it widely used in Python\n",
        "- NumPy (Numerical Python) is a powerful open-source library in Python used for numerical computing. It provides support for large, multi-dimensional arrays and matrices, along with a collection of mathematical functions to operate on these data structures efficiently.\n",
        "\n",
        "Why is NumPy Widely Used?\n",
        "  - efficient data structure:-NumPy provides ndarray, a fast and memory-efficient array data structure that supports multi-dimensional arrays.\n",
        "  - performance :- NumPy is significantly faster than Python lists for numerical operations because it is implemented in C and uses optimized mathematical functions.\n",
        "  - broadcasting:-Supports operations on arrays of different shapes without explicit looping or reshaping.\n",
        "  - used in machine learning and data science :- Serves as the backbone for libraries like TensorFlow, PyTorch, and scikit-learn."
      ]
    },
    {
      "cell_type": "markdown",
      "metadata": {
        "id": "guSkKs3RecnA"
      },
      "source": [
        "2. How does broadcasting work in NumPy\n",
        "- Broadcasting in NumPy allows operations between arrays of different shapes without explicitly reshaping or replicating data. This makes computations more efficient by avoiding unnecessary memory usage and loops.\n",
        "\n",
        "how broadcasting works\n",
        "\n",
        "NumPy automatically expands the smaller array so that element-wise operations can be performed seamlessly. It follows these rules:\n",
        "\n",
        "  - Match Dimensions from Right to Left: If the shapes of two arrays differ, NumPy aligns them starting from the last dimension.\n",
        "  - Size 1 Dimension Expands: If an array has a dimension of size 1, it gets expanded to match the other array’s size in that dimension.\n",
        "  - Mismatched Shapes Must Be Compatible: If dimensions are different but not 1, NumPy raises an error."
      ]
    },
    {
      "cell_type": "markdown",
      "metadata": {
        "id": "5IOh1yQNe3Lu"
      },
      "source": [
        "3.What is a Pandas DataFrame\n",
        "- A Pandas DataFrame is a two-dimensional, tabular data structure in Python, similar to a spreadsheet or SQL table. It consists of rows and columns, where each column can have different data types.\n",
        "\n",
        "Key Features of a DataFrame\n",
        "\n",
        "  - Labeled Index & Columns – Each row and column has a label, making data manipulation easy.\n",
        "  - Supports Multiple Data Types – Unlike NumPy arrays, DataFrames can store different data types (e.g., integers, floats, strings) in different columns.\n",
        "  - Handles Missing Data – Supports operations like filling, dropping, or interpolating missing values.\n",
        "  - Powerful Data Operations – Includes filtering, grouping, merging, reshaping, and aggregation functions.\n",
        "  - Integration – Works seamlessly with NumPy, Matplotlib, and other Python libraries."
      ]
    },
    {
      "cell_type": "markdown",
      "metadata": {
        "id": "M-91FANdfLpT"
      },
      "source": [
        "4.Explain the use of the groupby() method in Pandas\n",
        "- The groupby() method in Pandas is used to group data based on one or more columns and then apply aggregation functions like sum(), mean(), count(), etc. It is useful for analyzing and summarizing large datasets.\n",
        "\n",
        "How groupby() Works\n",
        "\n",
        "  - Splitting – The data is split into groups based on a column or multiple columns.\n",
        "  - Applying – An aggregation function (e.g., sum, mean, count) is applied to each group.\n",
        "  - Combining – The results are returned as a new DataFrame or Series.\n"
      ]
    },
    {
      "cell_type": "markdown",
      "metadata": {
        "id": "cKxLLXLEflxh"
      },
      "source": [
        "5.Why is Seaborn preferred for statistical visualizations\n",
        "- Seaborn is a Python data visualization library built on top of Matplotlib, designed specifically for statistical visualizations. It provides a high-level interface for drawing attractive and informative graphics with minimal code.\n",
        "\n",
        "Key Reasons Why Seaborn is Preferred\n",
        "\n",
        "1️⃣ Built-in Statistical Functions\n",
        "  - Seaborn includes many functions for statistical data visualization, such as histograms, violin plots, and regression plots, making it easier to analyze trends and distributions.\n",
        "  - Example: sns.histplot(), sns.boxplot(), sns.regplot()\n",
        "\n",
        "2️⃣ Default Aesthetics & Style\n",
        "  - seaborn applies beautiful default themes that enhance readability.\n",
        "  -Custom themes like \"darkgrid\", \"whitegrid\", \"ticks\", etc.\n",
        "\n",
        "3️⃣ Works Well with Pandas DataFrames\n",
        "  - Seaborn functions directly accept Pandas DataFrames, making it easier to visualize tabular data without extra formatting.\n",
        "\n",
        "4️⃣ Supports Complex Data Relationships\n",
        "  - Provides pair plots, heatmaps, and facet grids to visualize relationships between multiple variables.\n",
        "\n",
        "5️⃣ Automatic Aggregation & Categorization\n",
        "  - Many Seaborn plots aggregate and categorize data automatically, reducing the need for manual processing.\n",
        "\n",
        "6️⃣ Regression & Trend Analysis\n",
        "  - Seaborn makes it easy to plot regression lines with confidence intervals.\n",
        "\n",
        "7️⃣ Integration with Matplotlib\n",
        "  - You can combine Seaborn and Matplotlib commands, providing flexibility for customization."
      ]
    },
    {
      "cell_type": "markdown",
      "metadata": {
        "id": "Sj5ilPXPgoaQ"
      },
      "source": [
        "6.What are the differences between NumPy arrays and Python lists\n",
        "- NumPy Arrays (ndarray)\n",
        "    - NumPy arrays are designed for high-performance numerical computations and are significantly faster than Python lists because they are implemented in C and store data in contiguous memory. This makes operations like addition, multiplication, and statistical calculations much more efficient. They support vectorized operations, meaning you can perform element-wise computations without explicit loops, making the code cleaner and faster. Additionally, NumPy arrays store elements of the same data type, ensuring optimized memory usage and computational speed\n",
        "\n",
        "- Python Lists\n",
        "    - Python lists, on the other hand, are more flexible and versatile for general-purpose programming. They can store mixed data types, such as integers, floats, and strings, within the same list, unlike NumPy arrays. However, this flexibility comes at the cost of performance since lists store references to objects rather than the actual values, leading to increased memory usage and slower processing. Unlike NumPy, Python lists do not support vectorized operations, so performing element-wise computations requires explicit loops or list comprehensions."
      ]
    },
    {
      "cell_type": "markdown",
      "metadata": {
        "id": "vGV54t0YhWBW"
      },
      "source": [
        "7.What is a heatmap, and when should it be used\n",
        "- A heatmap is a type of data visualization that represents data values using color gradients. It is commonly used to highlight patterns, correlations, and trends in a dataset by assigning different colors to numerical values. Darker or more intense colors typically indicate higher values, while lighter colors represent lower values.\n",
        "\n",
        "When Should a Heatmap Be Used?\n",
        "\n",
        "✅ 1. Visualizing Correlations in Data\n",
        "  - Heatmaps are frequently used in correlation matrices to show the relationships between numerical variables.\n",
        "\n",
        "  -Example: In a dataset of sales and marketing expenses, a heatmap can show which factors are positively or negatively correlated.\n",
        "\n",
        "✅ 2. Representing Large Datasets in a Compact Form\n",
        "  - Heatmaps make it easier to spot trends and anomalies in big datasets where raw numbers might be overwhelming.\n",
        "  - Example: Visualizing customer behavior in an e-commerce website based on product views.\n",
        "\n",
        "✅ 3. Highlighting Missing Data\n",
        "  - Helps in identifying missing values (NaNs) in a dataset to decide whether to fill, remove, or investigate the gaps.\n",
        "\n",
        "✅ 4. Geospatial Data Representation\n",
        "  - Used in geographical maps to visualize temperature variations, population density, or crime rates.\n",
        "  -Example: Heatmaps in Google Maps show traffic congestion.\n",
        "\n"
      ]
    },
    {
      "cell_type": "markdown",
      "metadata": {
        "id": "ga3zuDx3iGar"
      },
      "source": [
        "8.What does the term “vectorized operation” mean in NumPy\n",
        "- A vectorized operation in NumPy refers to performing element-wise computations on entire arrays without explicit loops. Instead of iterating through individual elements, NumPy applies operations to the whole array at once, making computations faster and more efficient.\n",
        "\n",
        "Why Use Vectorized Operations?\n",
        "\n",
        "  - ✅ Faster Execution – NumPy operations are implemented in C and optimized for speed.\n",
        "  - ✅ Memory Efficient – Uses contiguous memory storage, reducing overhead.\n",
        "  - ✅ Cleaner Code – No need for explicit for loops, making code more readable.\n",
        "  - ✅ Parallel Processing – Internally optimized for CPU and GPU acceleration.\n",
        "\n"
      ]
    },
    {
      "cell_type": "markdown",
      "metadata": {
        "id": "_4__2EKPijz3"
      },
      "source": [
        "9.How does Matplotlib differ from Plotly\n",
        "- Matplotlib and Plotly are both popular Python libraries for data visualization, but they differ in functionality, interactivity, and use cases.\n",
        "\n",
        "1️⃣ Overview\n",
        "\n",
        "   🔹 Matplotlib is a static visualization library designed for generating basic to advanced 2D and 3D plots. It provides fine-grained control over every aspect of a plot but requires more code for customization.\n",
        "\n",
        "   🔹 Plotly is an interactive visualization library that supports zooming, hovering, and dynamic updates. It is better suited for dashboards, web applications, and real-time visualizations.\n",
        "\n",
        " When to Use Which?\n",
        "\n",
        "  - ✅ Use Matplotlib if:\n",
        "\n",
        "    - You need static, publication-quality plots.\n",
        "    - You require fine-grained control over plot details.\n",
        "    - You are working with scientific or academic visualizations.\n",
        "\n",
        "  - ✅ Use Plotly if:\n",
        "\n",
        "    - You need interactive charts with zoom, tooltips, and hover effects.\n",
        "    - You are building dashboards or web applications.\n",
        "    - You want quick and beautiful visualizations with less code.\n",
        "\n",
        "\n",
        "    "
      ]
    },
    {
      "cell_type": "markdown",
      "metadata": {
        "id": "x-0uQIatjX8W"
      },
      "source": [
        "10.What is the significance of hierarchical indexing in Pandas\n",
        "- Hierarchical indexing (also called MultiIndex) in Pandas allows you to use multiple levels of indexing on rows or columns in a DataFrame. This is especially useful for handling multi-dimensional data in a tabular format.\n",
        "\n",
        "🔹 Why is Hierarchical Indexing Important?\n",
        "  - ✅ 1. Organizes Complex Data Efficiently\n",
        "      - Helps manage data with multiple categories or groupings without requiring separate columns.\n",
        "      - Example: Sales data categorized by region → year → product.\n",
        "\n",
        "  ✅ 2. Facilitates Multi-level Data Selection\n",
        "      - Allows easy access to subsets of data using multiple index levels instead of filtering manually.\n",
        "\n",
        "  ✅ 3. Enhances Data Aggregation and Grouping\n",
        "      - Works well with .groupby() for summarizing data at different levels of detail.\n",
        "\n",
        "  ✅ 4. Supports Advanced Slicing and Filtering\n",
        "      - Enables easy selection of data across multiple index levels, similar to multi-dimensional arrays.\n",
        "\n",
        "  ✅ 5. Saves Memory\n",
        "      - Instead of storing redundant information in multiple columns, hierarchical indexing reduces data redundancy.\n"
      ]
    },
    {
      "cell_type": "markdown",
      "metadata": {
        "id": "bDL9_yZckZAj"
      },
      "source": [
        "11.What is the role of Seaborn’s pairplot() function\n",
        " -  Role of Seaborn’s pairplot() Function\n",
        "    - The pairplot() function in Seaborn is used to create a scatter plot matrix, which helps visualize the relationships between multiple numerical variables in a dataset. It plots pairwise relationships for all numerical features in a DataFrame, making it an excellent tool for exploratory data analysis (EDA).\n",
        "\n",
        "  🔹 Why Use pairplot()\n",
        "\n",
        "  ✅1.Helps Identify Relationships Between Variables\n",
        "    - Shows scatter plots for all numerical column combinations.\n",
        "    - Helps detect correlations, patterns, or trends.\n",
        "\n",
        "  ✅ 2. Highlights Distributions of Individual Variables\n",
        "    - Diagonal plots show histograms (or KDE plots) for feature distributions.\n",
        "\n",
        "  ✅ 3. Supports Categorical Coloring\n",
        "    - Can distinguish categories using the hue parameter.\n",
        "\n",
        "  ✅ 4. Quick and Easy to Use\n",
        "    - Requires only one function call, making it simpler than plotting multiple scatter plots manually.\n",
        "\n"
      ]
    },
    {
      "cell_type": "markdown",
      "metadata": {
        "id": "pQyzqKPBlvzA"
      },
      "source": [
        "12.What is the purpose of the describe() function in Pandas\n",
        "- The describe() function in Pandas is used to generate summary statistics of a DataFrame or Series. It provides insights into the distribution, central tendency, and spread of numerical data.\n",
        "\n",
        "Key Features:\n",
        "  - It returns statistics like count, mean, standard deviation (std), min, max, and quartiles (25%, 50%, 75%) for numerical columns by default.\n",
        "  - For categorical (object or string) columns, if include='all' is specified, it provides statistics like count, unique, top (most frequent value), and frequency."
      ]
    },
    {
      "cell_type": "markdown",
      "metadata": {
        "id": "a85UPgTMmbBx"
      },
      "source": [
        "13.Why is handling missing data important in Pandas\n",
        "- Handling missing data in Pandas is crucial because missing values can significantly impact data analysis, machine learning models, and decision-making. Here’s why it’s important and how to deal with it effectively:\n",
        "\n",
        "Why Handling Missing Data is Important?\n",
        "  - Prevents Errors in Computation\n",
        "    - Many Pandas functions (e.g., mean, sum) may return incorrect results if missing values (NaN) are present.\n",
        "\n",
        "  - Ensures Accurate Statistical Analysis\n",
        "    - Missing values can distort statistical measures like mean, median, and variance, leading to misleading insights.\n",
        "\n",
        "  - Improves Machine Learning Performance\n",
        "    - Many ML algorithms cannot handle missing data and may fail or produce biased results.\n",
        "\n",
        "  - Maintains Data Integrity\n",
        "    - Unhandled missing data can create inconsistencies, making analysis unreliable."
      ]
    },
    {
      "cell_type": "markdown",
      "metadata": {
        "id": "sPsafOzTnIoP"
      },
      "source": [
        "14.What are the benefits of using Plotly for data visualization\n",
        "- Plotly is a powerful data visualization library in Python that offers interactive, high-quality, and customizable charts. It is widely used in data analysis, business intelligence, and machine learning applications. Here are the key benefits of using Plotly for data visualization:\n",
        "\n",
        "1.Interactive Visualizations\n",
        "  - Unlike static libraries like Matplotlib, Plotly provides interactive charts where users can\n",
        "    - Zoom in/out\n",
        "    - Hover over data points for tooltips\n",
        "    - Pan across the graph\n",
        "    - Toggle visibility of traces\n",
        "\n",
        "2.Wide Variety of Charts\n",
        "  - Supports a vast range of visualizations including\n",
        "    - Line, Bar, Scatter, Pie, and Histogram\n",
        "    - 3D Plots\n",
        "    - Heatmaps\n",
        "    - Choropleth Maps (for geographical data)\n",
        "    - Financial Charts (candlestick, OHLC)\n",
        "\n",
        "3.Customization & Aesthetics\n",
        "  - Allows fine-tuned customization\n",
        "    - custom colors, themes, and layouts\n",
        "    - Annotations and shapes\n",
        "    - Multiple axes and subplots"
      ]
    },
    {
      "cell_type": "markdown",
      "metadata": {
        "id": "wya-OEetKiix"
      },
      "source": [
        "15.How does NumPy handle multidimensional arrays\n",
        "- NumPy handles multidimensional arrays using its powerful ndarray (N-dimensional array) structure. Here’s how it works:\n",
        "\n",
        "1.Creation of Multidimensional Arrays\n",
        "  - You can create an ndarray with multiple dimensions using numpy.array() by passing nested lists:\n",
        "\n",
        "2.Shape and Dimension Manipulation\n",
        "- shape: Returns the dimensions of the array.\n",
        "\n",
        "3.Indexing and Slicing\n",
        "- You can access elements using row and column indices\n",
        "\n",
        "4.Broadcasting and Vectorized Operations\n",
        "- NumPy allows element-wise operations on arrays of different shapes via broadcasting.\n",
        "\n",
        "\n"
      ]
    },
    {
      "cell_type": "markdown",
      "metadata": {
        "id": "kt7AHt7kPQQa"
      },
      "source": [
        "16.What is the role of Bokeh in data visualization\n",
        "- Bokeh is a powerful Python library for creating interactive and visually appealing data visualizations for web applications. It is particularly useful for handling large datasets efficiently and supports modern web-based visualization techniques.\n",
        "\n",
        "Key Roles of Bokeh in Data Visualization\n",
        "\n",
        "  - Interactive Visualizations\n",
        "    - Unlike static visualization libraries (e.g., Matplotlib, Seaborn), Bokeh allows zooming, panning, hovering, and dynamic updates without needing additional JavaScript.\n",
        "\n",
        "  - Web-Ready Output\n",
        "    - Bokeh generates interactive plots as HTML, making it ideal for dashboards and embedding in web applications.\n",
        "\n",
        "  - High Performance with Large Datasets\n",
        "    - Bokeh can handle large datasets efficiently using Datashader integration and WebGL rendering.\n",
        "\n",
        "  - Custom Dashboards and Applications\n",
        "    - With Bokeh Server, you can build live-updating dashboards that respond to user interactions."
      ]
    },
    {
      "cell_type": "markdown",
      "metadata": {
        "id": "LpNXoEVWP6gR"
      },
      "source": [
        "17.Explain the difference between apply() and map() in Pandas\n",
        "- In Pandas, both apply() and map() are used to apply functions to data, but they differ in terms of scope and usage.\n",
        "\n",
        "1.map()\n",
        "  - Used only on Series (i.e., a single column or row).\n",
        "\n",
        "  - Works with functions, dictionaries, or mappings.\n",
        "  - Returns a modified Series with the function applied to each element.\n",
        "\n",
        "2.apply()\n",
        "  - Used on both Series and DataFrames.\n",
        "  - For a Series, it works similarly to map(), but offers more flexibility.\n",
        "  - For a DataFrame, it can apply a function to rows (axis=1) or columns (axis=0)."
      ]
    },
    {
      "cell_type": "markdown",
      "metadata": {
        "id": "XWQwW7GZQcuD"
      },
      "source": [
        "18.What are some advanced features of NumPy\n",
        "- NumPy offers many advanced features that go beyond basic array operations. Here are some of the most powerful ones:\n",
        "\n",
        "1.Broadcasting\n",
        "  - Allows arithmetic operations on arrays of different shapes without explicit looping.\n",
        "  - Saves memory and computation time.\n",
        "\n",
        "2.Vectorization\n",
        "  - NumPy functions operate on entire arrays at once, avoiding Python loops.\n",
        "  - Much faster than traditional for-loops.\n",
        "\n",
        "3.Fancy Indexing\n",
        "  - Allows indexing using lists, boolean masks, or conditions.\n",
        "\n",
        "4.Memory Mapping (memmap)\n",
        "  - Handles large datasets that don’t fit into RAM.\n",
        "  - Loads only necessary chunks into memory.\n"
      ]
    },
    {
      "cell_type": "markdown",
      "metadata": {
        "id": "_6dI-eJmRTmb"
      },
      "source": [
        "19.How does Pandas simplify time series analysis\n",
        "- Pandas simplifies time series analysis by providing powerful tools for handling, manipulating, and analyzing time-indexed data efficiently. Here are some key features that make time series analysis easier with Pandas:\n",
        "\n",
        "1.Datetime Indexing & Conversion\n",
        "  - Pandas allows easy conversion of date-like strings to datetime objects using pd.to_datetime().\n",
        "  - You can set a DatetimeIndex, enabling easy time-based indexing and slicing.\n",
        "\n",
        "2.Resampling & Frequency Conversion\n",
        "  - Convert data to different time frequencies using .resample().\n",
        "\n",
        "3.Shifting & Lagging\n",
        "  - Shift time series data forward or backward for lead-lag analysis.\n",
        "\n",
        "4.Rolling & Expanding Windows\n",
        "  - Compute moving averages and other rolling statistics.\n",
        "\n",
        "5.Handling Missing Data\n",
        "  - Fill or interpolate missing time series data efficiently.\n",
        "\n",
        "\n",
        "\n",
        "\n"
      ]
    },
    {
      "cell_type": "markdown",
      "metadata": {
        "id": "E8jevTrzSGmi"
      },
      "source": [
        "20.What is the role of a pivot table in Pandas\n",
        "- A pivot table in Pandas is used to summarize, reshape, and analyze data in a structured way, especially when working with large datasets. It helps in organizing data by grouping and aggregating values based on one or more categorical variables.\n",
        "\n",
        "Key Roles of Pivot Tables in Pandas\n",
        "  - Data Summarization\n",
        "    - Aggregates data using functions like sum(), mean(), count(), etc.\n",
        "\n",
        "  - Reshaping Data\n",
        "    - Converts long-format data (tidy data) into a structured, wide-format table.\n",
        "\n",
        "  - Multi-Level Grouping\n",
        "    - Allows grouping by multiple columns for better insights.\n",
        "\n",
        "  - Quick Data Analysis\n",
        "    - Helps in analyzing trends and patterns without complex queries\n",
        "\n",
        "\n",
        "  "
      ]
    },
    {
      "cell_type": "markdown",
      "metadata": {
        "id": "YT-sRj5uTe0x"
      },
      "source": [
        "21.Why is NumPy’s array slicing faster than Python’s list slicing\n",
        "- NumPy’s array slicing is faster than Python’s list slicing due to several key reasons:\n",
        "\n",
        " - Memory Efficiency\n",
        "      - NumPy arrays are stored as contiguous blocks of memory, whereas Python lists store references to objects scattered in memory. This means NumPy can access elements more quickly due to better cache locality.\n",
        " - Views Instead of Copies\n",
        "    - When you slice a NumPy array, it usually returns a view of the original data rather than creating a new copy. This avoids the overhead of allocating new memory and copying data, unlike Python lists, which always create a new list when sliced.\n",
        "\n",
        " - Vectorized Operations\n",
        "    - NumPy is optimized for vectorized operations at the C level, allowing it to handle slicing and indexing much faster than Python’s built-in list operations, which require looping in Python (an interpreted language).\n",
        "\n",
        " - Lower-Level Implementation\n",
        "    - NumPy is implemented in C, which is much faster than Python’s high-level interpreted operations. Slicing in NumPy involves direct memory access with efficient pointer arithmetic, whereas Python lists involve multiple layers of abstraction and overhead."
      ]
    },
    {
      "cell_type": "markdown",
      "metadata": {
        "id": "bA-_L5eFWTZc"
      },
      "source": [
        "22.What are some common use cases for Seaborn\n",
        "- Seaborn is a powerful Python data visualization library built on top of Matplotlib. It is particularly useful for statistical data visualization and works well with Pandas data structures. Here are some common use cases:\n",
        "\n",
        "  - 1.Exploratory Data Analysis (EDA)\n",
        "    - Quickly visualize datasets to understand distributions, relationships, and patterns.\n",
        "    - Example: Using sns.pairplot() to visualize pairwise relationships in a dataset.\n",
        "\n",
        "  - 2.Distribution Analysis\n",
        "    - Understanding how a variable is distributed using histograms, kernel density plots, and box plots.\n",
        "\n",
        "  - 3.Categorical Data Visualization\n",
        "    - Analyzing categorical features using bar plots, count plots, and violin plots.\n",
        "\n",
        "  - 4.Correlation and Relationships Between Variables\n",
        "    - Scatter plots, heatmaps, and regression plots help in understanding correlations.\n"
      ]
    },
    {
      "cell_type": "markdown",
      "metadata": {
        "id": "69Xy6WL1XRI7"
      },
      "source": [
        "# Practical Question"
      ]
    },
    {
      "cell_type": "markdown",
      "metadata": {
        "id": "QnbNG24iX5ql"
      },
      "source": [
        "1.How do you create a 2D NumPy array and calculate the sum of each row"
      ]
    },
    {
      "cell_type": "code",
      "execution_count": null,
      "metadata": {
        "colab": {
          "base_uri": "https://localhost:8080/"
        },
        "id": "LWFLLkBbX-Cu",
        "outputId": "521623b2-b1df-47bc-e833-7588360ae195"
      },
      "outputs": [
        {
          "name": "stdout",
          "output_type": "stream",
          "text": [
            "Array:\n",
            "[[1 2 3]\n",
            " [4 5 6]\n",
            " [7 8 9]]\n",
            "Sum of each row:\n",
            "[ 6 15 24]\n"
          ]
        }
      ],
      "source": [
        "import numpy as np\n",
        "\n",
        "# Create a 2D NumPy array (3x3 example)\n",
        "array = np.array([[1, 2, 3],\n",
        "                  [4, 5, 6],\n",
        "                  [7, 8, 9]])\n",
        "\n",
        "# Calculate the sum of each row\n",
        "row_sums = np.sum(array, axis=1)\n",
        "\n",
        "print(\"Array:\")\n",
        "print(array)\n",
        "\n",
        "print(\"Sum of each row:\")\n",
        "print(row_sums)\n"
      ]
    },
    {
      "cell_type": "markdown",
      "metadata": {
        "id": "K5KiYguZYVlf"
      },
      "source": [
        "2.Write a Pandas script to find the mean of a specific column in a DataFrame"
      ]
    },
    {
      "cell_type": "code",
      "execution_count": null,
      "metadata": {
        "colab": {
          "base_uri": "https://localhost:8080/"
        },
        "id": "TizwkVknYcZL",
        "outputId": "cb7770e9-1121-408c-8349-d2709b1e203f"
      },
      "outputs": [
        {
          "name": "stdout",
          "output_type": "stream",
          "text": [
            "Mean Salary: 65000.0\n"
          ]
        }
      ],
      "source": [
        "import pandas as pd\n",
        "\n",
        "# Create a sample DataFrame\n",
        "data = {\n",
        "    'Name': ['Alice', 'Bob', 'Charlie', 'David'],\n",
        "    'Age': [25, 30, 35, 40],\n",
        "    'Salary': [50000, 60000, 70000, 80000]\n",
        "}\n",
        "\n",
        "df = pd.DataFrame(data)\n",
        "\n",
        "# Calculate the mean of the 'Salary' column\n",
        "mean_salary = df['Salary'].mean()\n",
        "\n",
        "print(\"Mean Salary:\", mean_salary)\n"
      ]
    },
    {
      "cell_type": "markdown",
      "metadata": {
        "id": "CSHHLOPKYq-b"
      },
      "source": [
        "3.Create a scatter plot using Matplotlib"
      ]
    },
    {
      "cell_type": "code",
      "execution_count": null,
      "metadata": {
        "colab": {
          "base_uri": "https://localhost:8080/",
          "height": 472
        },
        "id": "qKtM7R_iYzWC",
        "outputId": "1f271cbc-54ae-40a9-d9ba-8061b6927e8c"
      },
      "outputs": [
        {
          "data": {
            "image/png": "[encoded data removed]",
            "text/plain": [
              "<Figure size 640x480 with 1 Axes>"
            ]
          },
          "metadata": {},
          "output_type": "display_data"
        }
      ],
      "source": [
        "import matplotlib.pyplot as plt\n",
        "import numpy as np\n",
        "\n",
        "# Generate sample data\n",
        "x = np.random.rand(50) * 10  # 50 random points between 0 and 10\n",
        "y = np.random.rand(50) * 10\n",
        "\n",
        "# Create a scatter plot\n",
        "plt.scatter(x, y, color='blue', marker='o', alpha=0.7)\n",
        "\n",
        "# Add labels and title\n",
        "plt.xlabel(\"X-axis Label\")\n",
        "plt.ylabel(\"Y-axis Label\")\n",
        "plt.title(\"Sample Scatter Plot\")\n",
        "\n",
        "# Show the plot\n",
        "plt.show()\n"
      ]
    },
    {
      "cell_type": "markdown",
      "metadata": {
        "id": "EONZ3h_FZGeI"
      },
      "source": [
        "4.How do you calculate the correlation matrix using Seaborn and visualize it with a heatmap"
      ]
    },
    {
      "cell_type": "code",
      "execution_count": null,
      "metadata": {
        "colab": {
          "base_uri": "https://localhost:8080/",
          "height": 391
        },
        "id": "p1Qi3ofNZK4l",
        "outputId": "34e27dcf-f858-49ca-eb15-1933c39881c7"
      },
      "outputs": [
        {
          "data": {
            "image/png": "[encoded data removed]",
            "text/plain": [
              "<Figure size 600x400 with 2 Axes>"
            ]
          },
          "metadata": {},
          "output_type": "display_data"
        }
      ],
      "source": [
        "import pandas as pd\n",
        "import seaborn as sns\n",
        "import matplotlib.pyplot as plt\n",
        "\n",
        "# Create a sample DataFrame\n",
        "data = {\n",
        "    'A': [1, 2, 3, 4, 5],\n",
        "    'B': [2, 4, 6, 8, 10],\n",
        "    'C': [5, 3, 8, 6, 4],\n",
        "    'D': [10, 12, 15, 18, 20]\n",
        "}\n",
        "\n",
        "df = pd.DataFrame(data)\n",
        "\n",
        "# Compute the correlation matrix\n",
        "corr_matrix = df.corr()\n",
        "\n",
        "# Create a heatmap\n",
        "plt.figure(figsize=(6, 4))\n",
        "sns.heatmap(corr_matrix, annot=True, cmap=\"coolwarm\", fmt=\".2f\", linewidths=0.5)\n",
        "\n",
        "# Add title\n",
        "plt.title(\"Correlation Matrix Heatmap\")\n",
        "\n",
        "# Show the plot\n",
        "plt.show()\n"
      ]
    },
    {
      "cell_type": "markdown",
      "metadata": {
        "id": "ZQWvOyNkZk7T"
      },
      "source": [
        "5.Generate a bar plot using Plotly"
      ]
    },
    {
      "cell_type": "code",
      "execution_count": 18,
      "metadata": {
        "colab": {
          "base_uri": "https://localhost:8080/",
          "height": 542
        },
        "id": "hf1BOmo_ZtFa",
        "outputId": "a4cac17c-2448-49d2-88c5-86bc87bda138"
      },
      "outputs": [
        {
          "output_type": "display_data",
          "data": {
            "text/html": [
              "<html>\n",
              "<head><meta charset=\"utf-8\" /></head>\n",
              "<body>\n",
              "    <div>            <script src=\"https://cdnjs.cloudflare.com/ajax/libs/mathjax/2.7.5/MathJax.js?config=TeX-AMS-MML_SVG\"></script><script type=\"text/javascript\">if (window.MathJax && window.MathJax.Hub && window.MathJax.Hub.Config) {window.MathJax.Hub.Config({SVG: {font: \"STIX-Web\"}});}</script>                <script type=\"text/javascript\">window.PlotlyConfig = {MathJaxConfig: 'local'};</script>\n",
              "        <script charset=\"utf-8\" src=\"https://cdn.plot.ly/plotly-2.35.2.min.js\"></script>                <div id=\"2c56aa86-e44f-4364-8d91-b2f2298bd772\" class=\"plotly-graph-div\" style=\"height:525px; width:100%;\"></div>            <script type=\"text/javascript\">                                    window.PLOTLYENV=window.PLOTLYENV || {};                                    if (document.getElementById(\"2c56aa86-e44f-4364-8d91-b2f2298bd772\")) {                    Plotly.newPlot(                        \"2c56aa86-e44f-4364-8d91-b2f2298bd772\",                        [{\"alignmentgroup\":\"True\",\"hovertemplate\":\"Categories=%{x}\\u003cbr\\u003eCount=%{y}\\u003cextra\\u003e\\u003c\\u002fextra\\u003e\",\"legendgroup\":\"A\",\"marker\":{\"color\":\"#636efa\",\"pattern\":{\"shape\":\"\"}},\"name\":\"A\",\"offsetgroup\":\"A\",\"orientation\":\"v\",\"showlegend\":true,\"textposition\":\"auto\",\"x\":[\"A\"],\"xaxis\":\"x\",\"y\":[10],\"yaxis\":\"y\",\"type\":\"bar\"},{\"alignmentgroup\":\"True\",\"hovertemplate\":\"Categories=%{x}\\u003cbr\\u003eCount=%{y}\\u003cextra\\u003e\\u003c\\u002fextra\\u003e\",\"legendgroup\":\"B\",\"marker\":{\"color\":\"#EF553B\",\"pattern\":{\"shape\":\"\"}},\"name\":\"B\",\"offsetgroup\":\"B\",\"orientation\":\"v\",\"showlegend\":true,\"textposition\":\"auto\",\"x\":[\"B\"],\"xaxis\":\"x\",\"y\":[25],\"yaxis\":\"y\",\"type\":\"bar\"},{\"alignmentgroup\":\"True\",\"hovertemplate\":\"Categories=%{x}\\u003cbr\\u003eCount=%{y}\\u003cextra\\u003e\\u003c\\u002fextra\\u003e\",\"legendgroup\":\"C\",\"marker\":{\"color\":\"#00cc96\",\"pattern\":{\"shape\":\"\"}},\"name\":\"C\",\"offsetgroup\":\"C\",\"orientation\":\"v\",\"showlegend\":true,\"textposition\":\"auto\",\"x\":[\"C\"],\"xaxis\":\"x\",\"y\":[15],\"yaxis\":\"y\",\"type\":\"bar\"},{\"alignmentgroup\":\"True\",\"hovertemplate\":\"Categories=%{x}\\u003cbr\\u003eCount=%{y}\\u003cextra\\u003e\\u003c\\u002fextra\\u003e\",\"legendgroup\":\"D\",\"marker\":{\"color\":\"#ab63fa\",\"pattern\":{\"shape\":\"\"}},\"name\":\"D\",\"offsetgroup\":\"D\",\"orientation\":\"v\",\"showlegend\":true,\"textposition\":\"auto\",\"x\":[\"D\"],\"xaxis\":\"x\",\"y\":[30],\"yaxis\":\"y\",\"type\":\"bar\"},{\"alignmentgroup\":\"True\",\"hovertemplate\":\"Categories=%{x}\\u003cbr\\u003eCount=%{y}\\u003cextra\\u003e\\u003c\\u002fextra\\u003e\",\"legendgroup\":\"E\",\"marker\":{\"color\":\"#FFA15A\",\"pattern\":{\"shape\":\"\"}},\"name\":\"E\",\"offsetgroup\":\"E\",\"orientation\":\"v\",\"showlegend\":true,\"textposition\":\"auto\",\"x\":[\"E\"],\"xaxis\":\"x\",\"y\":[20],\"yaxis\":\"y\",\"type\":\"bar\"}],                        {\"template\":{\"data\":{\"histogram2dcontour\":[{\"type\":\"histogram2dcontour\",\"colorbar\":{\"outlinewidth\":0,\"ticks\":\"\"},\"colorscale\":[[0.0,\"#0d0887\"],[0.1111111111111111,\"#46039f\"],[0.2222222222222222,\"#7201a8\"],[0.3333333333333333,\"#9c179e\"],[0.4444444444444444,\"#bd3786\"],[0.5555555555555556,\"#d8576b\"],[0.6666666666666666,\"#ed7953\"],[0.7777777777777778,\"#fb9f3a\"],[0.8888888888888888,\"#fdca26\"],[1.0,\"#f0f921\"]]}],\"choropleth\":[{\"type\":\"choropleth\",\"colorbar\":{\"outlinewidth\":0,\"ticks\":\"\"}}],\"histogram2d\":[{\"type\":\"histogram2d\",\"colorbar\":{\"outlinewidth\":0,\"ticks\":\"\"},\"colorscale\":[[0.0,\"#0d0887\"],[0.1111111111111111,\"#46039f\"],[0.2222222222222222,\"#7201a8\"],[0.3333333333333333,\"#9c179e\"],[0.4444444444444444,\"#bd3786\"],[0.5555555555555556,\"#d8576b\"],[0.6666666666666666,\"#ed7953\"],[0.7777777777777778,\"#fb9f3a\"],[0.8888888888888888,\"#fdca26\"],[1.0,\"#f0f921\"]]}],\"heatmap\":[{\"type\":\"heatmap\",\"colorbar\":{\"outlinewidth\":0,\"ticks\":\"\"},\"colorscale\":[[0.0,\"#0d0887\"],[0.1111111111111111,\"#46039f\"],[0.2222222222222222,\"#7201a8\"],[0.3333333333333333,\"#9c179e\"],[0.4444444444444444,\"#bd3786\"],[0.5555555555555556,\"#d8576b\"],[0.6666666666666666,\"#ed7953\"],[0.7777777777777778,\"#fb9f3a\"],[0.8888888888888888,\"#fdca26\"],[1.0,\"#f0f921\"]]}],\"heatmapgl\":[{\"type\":\"heatmapgl\",\"colorbar\":{\"outlinewidth\":0,\"ticks\":\"\"},\"colorscale\":[[0.0,\"#0d0887\"],[0.1111111111111111,\"#46039f\"],[0.2222222222222222,\"#7201a8\"],[0.3333333333333333,\"#9c179e\"],[0.4444444444444444,\"#bd3786\"],[0.5555555555555556,\"#d8576b\"],[0.6666666666666666,\"#ed7953\"],[0.7777777777777778,\"#fb9f3a\"],[0.8888888888888888,\"#fdca26\"],[1.0,\"#f0f921\"]]}],\"contourcarpet\":[{\"type\":\"contourcarpet\",\"colorbar\":{\"outlinewidth\":0,\"ticks\":\"\"}}],\"contour\":[{\"type\":\"contour\",\"colorbar\":{\"outlinewidth\":0,\"ticks\":\"\"},\"colorscale\":[[0.0,\"#0d0887\"],[0.1111111111111111,\"#46039f\"],[0.2222222222222222,\"#7201a8\"],[0.3333333333333333,\"#9c179e\"],[0.4444444444444444,\"#bd3786\"],[0.5555555555555556,\"#d8576b\"],[0.6666666666666666,\"#ed7953\"],[0.7777777777777778,\"#fb9f3a\"],[0.8888888888888888,\"#fdca26\"],[1.0,\"#f0f921\"]]}],\"surface\":[{\"type\":\"surface\",\"colorbar\":{\"outlinewidth\":0,\"ticks\":\"\"},\"colorscale\":[[0.0,\"#0d0887\"],[0.1111111111111111,\"#46039f\"],[0.2222222222222222,\"#7201a8\"],[0.3333333333333333,\"#9c179e\"],[0.4444444444444444,\"#bd3786\"],[0.5555555555555556,\"#d8576b\"],[0.6666666666666666,\"#ed7953\"],[0.7777777777777778,\"#fb9f3a\"],[0.8888888888888888,\"#fdca26\"],[1.0,\"#f0f921\"]]}],\"mesh3d\":[{\"type\":\"mesh3d\",\"colorbar\":{\"outlinewidth\":0,\"ticks\":\"\"}}],\"scatter\":[{\"fillpattern\":{\"fillmode\":\"overlay\",\"size\":10,\"solidity\":0.2},\"type\":\"scatter\"}],\"parcoords\":[{\"type\":\"parcoords\",\"line\":{\"colorbar\":{\"outlinewidth\":0,\"ticks\":\"\"}}}],\"scatterpolargl\":[{\"type\":\"scatterpolargl\",\"marker\":{\"colorbar\":{\"outlinewidth\":0,\"ticks\":\"\"}}}],\"bar\":[{\"error_x\":{\"color\":\"#2a3f5f\"},\"error_y\":{\"color\":\"#2a3f5f\"},\"marker\":{\"line\":{\"color\":\"#E5ECF6\",\"width\":0.5},\"pattern\":{\"fillmode\":\"overlay\",\"size\":10,\"solidity\":0.2}},\"type\":\"bar\"}],\"scattergeo\":[{\"type\":\"scattergeo\",\"marker\":{\"colorbar\":{\"outlinewidth\":0,\"ticks\":\"\"}}}],\"scatterpolar\":[{\"type\":\"scatterpolar\",\"marker\":{\"colorbar\":{\"outlinewidth\":0,\"ticks\":\"\"}}}],\"histogram\":[{\"marker\":{\"pattern\":{\"fillmode\":\"overlay\",\"size\":10,\"solidity\":0.2}},\"type\":\"histogram\"}],\"scattergl\":[{\"type\":\"scattergl\",\"marker\":{\"colorbar\":{\"outlinewidth\":0,\"ticks\":\"\"}}}],\"scatter3d\":[{\"type\":\"scatter3d\",\"line\":{\"colorbar\":{\"outlinewidth\":0,\"ticks\":\"\"}},\"marker\":{\"colorbar\":{\"outlinewidth\":0,\"ticks\":\"\"}}}],\"scattermapbox\":[{\"type\":\"scattermapbox\",\"marker\":{\"colorbar\":{\"outlinewidth\":0,\"ticks\":\"\"}}}],\"scatterternary\":[{\"type\":\"scatterternary\",\"marker\":{\"colorbar\":{\"outlinewidth\":0,\"ticks\":\"\"}}}],\"scattercarpet\":[{\"type\":\"scattercarpet\",\"marker\":{\"colorbar\":{\"outlinewidth\":0,\"ticks\":\"\"}}}],\"carpet\":[{\"aaxis\":{\"endlinecolor\":\"#2a3f5f\",\"gridcolor\":\"white\",\"linecolor\":\"white\",\"minorgridcolor\":\"white\",\"startlinecolor\":\"#2a3f5f\"},\"baxis\":{\"endlinecolor\":\"#2a3f5f\",\"gridcolor\":\"white\",\"linecolor\":\"white\",\"minorgridcolor\":\"white\",\"startlinecolor\":\"#2a3f5f\"},\"type\":\"carpet\"}],\"table\":[{\"cells\":{\"fill\":{\"color\":\"#EBF0F8\"},\"line\":{\"color\":\"white\"}},\"header\":{\"fill\":{\"color\":\"#C8D4E3\"},\"line\":{\"color\":\"white\"}},\"type\":\"table\"}],\"barpolar\":[{\"marker\":{\"line\":{\"color\":\"#E5ECF6\",\"width\":0.5},\"pattern\":{\"fillmode\":\"overlay\",\"size\":10,\"solidity\":0.2}},\"type\":\"barpolar\"}],\"pie\":[{\"automargin\":true,\"type\":\"pie\"}]},\"layout\":{\"autotypenumbers\":\"strict\",\"colorway\":[\"#636efa\",\"#EF553B\",\"#00cc96\",\"#ab63fa\",\"#FFA15A\",\"#19d3f3\",\"#FF6692\",\"#B6E880\",\"#FF97FF\",\"#FECB52\"],\"font\":{\"color\":\"#2a3f5f\"},\"hovermode\":\"closest\",\"hoverlabel\":{\"align\":\"left\"},\"paper_bgcolor\":\"white\",\"plot_bgcolor\":\"#E5ECF6\",\"polar\":{\"bgcolor\":\"#E5ECF6\",\"angularaxis\":{\"gridcolor\":\"white\",\"linecolor\":\"white\",\"ticks\":\"\"},\"radialaxis\":{\"gridcolor\":\"white\",\"linecolor\":\"white\",\"ticks\":\"\"}},\"ternary\":{\"bgcolor\":\"#E5ECF6\",\"aaxis\":{\"gridcolor\":\"white\",\"linecolor\":\"white\",\"ticks\":\"\"},\"baxis\":{\"gridcolor\":\"white\",\"linecolor\":\"white\",\"ticks\":\"\"},\"caxis\":{\"gridcolor\":\"white\",\"linecolor\":\"white\",\"ticks\":\"\"}},\"coloraxis\":{\"colorbar\":{\"outlinewidth\":0,\"ticks\":\"\"}},\"colorscale\":{\"sequential\":[[0.0,\"#0d0887\"],[0.1111111111111111,\"#46039f\"],[0.2222222222222222,\"#7201a8\"],[0.3333333333333333,\"#9c179e\"],[0.4444444444444444,\"#bd3786\"],[0.5555555555555556,\"#d8576b\"],[0.6666666666666666,\"#ed7953\"],[0.7777777777777778,\"#fb9f3a\"],[0.8888888888888888,\"#fdca26\"],[1.0,\"#f0f921\"]],\"sequentialminus\":[[0.0,\"#0d0887\"],[0.1111111111111111,\"#46039f\"],[0.2222222222222222,\"#7201a8\"],[0.3333333333333333,\"#9c179e\"],[0.4444444444444444,\"#bd3786\"],[0.5555555555555556,\"#d8576b\"],[0.6666666666666666,\"#ed7953\"],[0.7777777777777778,\"#fb9f3a\"],[0.8888888888888888,\"#fdca26\"],[1.0,\"#f0f921\"]],\"diverging\":[[0,\"#8e0152\"],[0.1,\"#c51b7d\"],[0.2,\"#de77ae\"],[0.3,\"#f1b6da\"],[0.4,\"#fde0ef\"],[0.5,\"#f7f7f7\"],[0.6,\"#e6f5d0\"],[0.7,\"#b8e186\"],[0.8,\"#7fbc41\"],[0.9,\"#4d9221\"],[1,\"#276419\"]]},\"xaxis\":{\"gridcolor\":\"white\",\"linecolor\":\"white\",\"ticks\":\"\",\"title\":{\"standoff\":15},\"zerolinecolor\":\"white\",\"automargin\":true,\"zerolinewidth\":2},\"yaxis\":{\"gridcolor\":\"white\",\"linecolor\":\"white\",\"ticks\":\"\",\"title\":{\"standoff\":15},\"zerolinecolor\":\"white\",\"automargin\":true,\"zerolinewidth\":2},\"scene\":{\"xaxis\":{\"backgroundcolor\":\"#E5ECF6\",\"gridcolor\":\"white\",\"linecolor\":\"white\",\"showbackground\":true,\"ticks\":\"\",\"zerolinecolor\":\"white\",\"gridwidth\":2},\"yaxis\":{\"backgroundcolor\":\"#E5ECF6\",\"gridcolor\":\"white\",\"linecolor\":\"white\",\"showbackground\":true,\"ticks\":\"\",\"zerolinecolor\":\"white\",\"gridwidth\":2},\"zaxis\":{\"backgroundcolor\":\"#E5ECF6\",\"gridcolor\":\"white\",\"linecolor\":\"white\",\"showbackground\":true,\"ticks\":\"\",\"zerolinecolor\":\"white\",\"gridwidth\":2}},\"shapedefaults\":{\"line\":{\"color\":\"#2a3f5f\"}},\"annotationdefaults\":{\"arrowcolor\":\"#2a3f5f\",\"arrowhead\":0,\"arrowwidth\":1},\"geo\":{\"bgcolor\":\"white\",\"landcolor\":\"#E5ECF6\",\"subunitcolor\":\"white\",\"showland\":true,\"showlakes\":true,\"lakecolor\":\"white\"},\"title\":{\"x\":0.05},\"mapbox\":{\"style\":\"light\"}}},\"xaxis\":{\"anchor\":\"y\",\"domain\":[0.0,1.0],\"title\":{\"text\":\"Categories\"},\"categoryorder\":\"array\",\"categoryarray\":[\"A\",\"B\",\"C\",\"D\",\"E\"]},\"yaxis\":{\"anchor\":\"x\",\"domain\":[0.0,1.0],\"title\":{\"text\":\"Count\"}},\"legend\":{\"title\":{\"text\":\"Categories\"},\"tracegroupgap\":0},\"title\":{\"text\":\"Sample Bar Plot\"},\"barmode\":\"relative\"},                        {\"responsive\": true}                    ).then(function(){\n",
              "                            \n",
              "var gd = document.getElementById('2c56aa86-e44f-4364-8d91-b2f2298bd772');\n",
              "var x = new MutationObserver(function (mutations, observer) {{\n",
              "        var display = window.getComputedStyle(gd).display;\n",
              "        if (!display || display === 'none') {{\n",
              "            console.log([gd, 'removed!']);\n",
              "            Plotly.purge(gd);\n",
              "            observer.disconnect();\n",
              "        }}\n",
              "}});\n",
              "\n",
              "// Listen for the removal of the full notebook cells\n",
              "var notebookContainer = gd.closest('#notebook-container');\n",
              "if (notebookContainer) {{\n",
              "    x.observe(notebookContainer, {childList: true});\n",
              "}}\n",
              "\n",
              "// Listen for the clearing of the current output cell\n",
              "var outputEl = gd.closest('.output');\n",
              "if (outputEl) {{\n",
              "    x.observe(outputEl, {childList: true});\n",
              "}}\n",
              "\n",
              "                        })                };                            </script>        </div>\n",
              "</body>\n",
              "</html>"
            ]
          },
          "metadata": {}
        }
      ],
      "source": [
        "import plotly.express as px\n",
        "import pandas as pd\n",
        "\n",
        "# Create sample data\n",
        "data = {\n",
        "    'Category': ['A', 'B', 'C', 'D', 'E'],\n",
        "    'Values': [10, 25, 15, 30, 20]\n",
        "}\n",
        "\n",
        "df = pd.DataFrame(data)\n",
        "\n",
        "# Create a bar plot using Plotly\n",
        "fig = px.bar(df, x='Category', y='Values', title=\"Sample Bar Plot\",\n",
        "             labels={'Values': 'Count', 'Category': 'Categories'},\n",
        "             color='Category')\n",
        "\n",
        "# Show the figure\n",
        "fig.show()"
      ]
    },
    {
      "cell_type": "markdown",
      "source": [
        "6.Create a DataFrame and add a new column based on an existing column"
      ],
      "metadata": {
        "id": "UJpmzEhem1Ya"
      }
    },
    {
      "cell_type": "code",
      "source": [
        "import pandas as pd\n",
        "\n",
        "# Create a sample DataFrame\n",
        "data = {\n",
        "    'Name': ['Alice', 'Bob', 'Charlie', 'David'],\n",
        "    'Salary': [50000, 60000, 70000, 80000]\n",
        "}\n",
        "\n",
        "df = pd.DataFrame(data)\n",
        "\n",
        "# Add a new column 'Tax' (assume tax is 10% of salary)\n",
        "df['Tax'] = df['Salary'] * 0.10\n",
        "\n",
        "# Add another column 'Net Salary' after tax deduction\n",
        "df['Net Salary'] = df['Salary'] - df['Tax']\n",
        "\n",
        "print(df)"
      ],
      "metadata": {
        "colab": {
          "base_uri": "https://localhost:8080/"
        },
        "id": "dM3e4yERm5aN",
        "outputId": "4b0539d7-286c-4c75-92d3-c2de7c98761b"
      },
      "execution_count": 19,
      "outputs": [
        {
          "output_type": "stream",
          "name": "stdout",
          "text": [
            "      Name  Salary     Tax  Net Salary\n",
            "0    Alice   50000  5000.0     45000.0\n",
            "1      Bob   60000  6000.0     54000.0\n",
            "2  Charlie   70000  7000.0     63000.0\n",
            "3    David   80000  8000.0     72000.0\n"
          ]
        }
      ]
    },
    {
      "cell_type": "markdown",
      "source": [
        "7.Write a program to perform element-wise multiplication of two NumPy arrays"
      ],
      "metadata": {
        "id": "81GIzf1Am-tW"
      }
    },
    {
      "cell_type": "code",
      "source": [
        "import numpy as np\n",
        "\n",
        "# Define two NumPy arrays\n",
        "array1 = np.array([1, 2, 3, 4, 5])\n",
        "array2 = np.array([10, 20, 30, 40, 50])\n",
        "\n",
        "# Element-wise multiplication\n",
        "result = array1 * array2  # or use np.multiply(array1, array2)\n",
        "\n",
        "print(\"Array 1:\", array1)\n",
        "print(\"Array 2:\", array2)\n",
        "print(\"Element-wise Multiplication Result:\", result)\n"
      ],
      "metadata": {
        "colab": {
          "base_uri": "https://localhost:8080/"
        },
        "id": "tMoKIz-PnCSQ",
        "outputId": "18315a3f-b31f-48f1-fefc-5d9b7bb72812"
      },
      "execution_count": 20,
      "outputs": [
        {
          "output_type": "stream",
          "name": "stdout",
          "text": [
            "Array 1: [1 2 3 4 5]\n",
            "Array 2: [10 20 30 40 50]\n",
            "Element-wise Multiplication Result: [ 10  40  90 160 250]\n"
          ]
        }
      ]
    },
    {
      "cell_type": "markdown",
      "source": [
        "8.Create a line plot with multiple lines using Matplotlib"
      ],
      "metadata": {
        "id": "3kRypSsunGbT"
      }
    },
    {
      "cell_type": "code",
      "source": [
        "\n",
        "import matplotlib.pyplot as plt\n",
        "import numpy as np\n",
        "\n",
        "# Generate sample data\n",
        "x = np.arange(1, 11)  # X values from 1 to 10\n",
        "y1 = x * 2  # First line (y = 2x)\n",
        "y2 = x ** 2  # Second line (y = x^2)\n",
        "y3 = np.log(x) * 10  # Third line (y = 10*log(x))\n",
        "\n",
        "# Create the plot\n",
        "plt.figure(figsize=(7, 5))\n",
        "plt.plot(x, y1, label=\"y = 2x\", marker='o', linestyle='-')\n",
        "plt.plot(x, y2, label=\"y = x^2\", marker='s', linestyle='--', color='red')\n",
        "plt.plot(x, y3, label=\"y = 10*log(x)\", marker='^', linestyle='-.', color='green')\n",
        "\n",
        "# Add labels, title, and legend\n",
        "plt.xlabel(\"X-axis\")\n",
        "plt.ylabel(\"Y-axis\")\n",
        "plt.title(\"Line Plot with Multiple Lines\")\n",
        "plt.legend()\n",
        "\n",
        "# Show the plot\n",
        "plt.grid(True)\n",
        "plt.show()\n"
      ],
      "metadata": {
        "colab": {
          "base_uri": "https://localhost:8080/",
          "height": 487
        },
        "id": "jrXz5CR9nKLI",
        "outputId": "6cf921e9-eb3e-427c-bf82-557d651d6a2c"
      },
      "execution_count": 21,
      "outputs": [
        {
          "output_type": "display_data",
          "data": {
            "text/plain": [
              "<Figure size 700x500 with 1 Axes>"
            ],
            "image/png": "[encoded data removed]"
          },
          "metadata": {}
        }
      ]
    },
    {
      "cell_type": "markdown",
      "source": [
        "9.Generate a Pandas DataFrame and filter rows where a column value is greater than a threshold"
      ],
      "metadata": {
        "id": "3ZdhKsxVnOuv"
      }
    },
    {
      "cell_type": "code",
      "source": [
        "import pandas as pd\n",
        "\n",
        "# Create a sample DataFrame\n",
        "data = {\n",
        "    'Name': ['Alice', 'Bob', 'Charlie', 'David', 'Emma'],\n",
        "    'Age': [25, 30, 35, 40, 22],\n",
        "    'Salary': [50000, 60000, 70000, 80000, 45000]\n",
        "}\n",
        "\n",
        "df = pd.DataFrame(data)\n",
        "\n",
        "# Define the threshold (e.g., filter rows where Salary > 55000)\n",
        "threshold = 55000\n",
        "filtered_df = df[df['Salary'] > threshold]\n",
        "\n",
        "# Display the filtered DataFrame\n",
        "print(filtered_df)"
      ],
      "metadata": {
        "colab": {
          "base_uri": "https://localhost:8080/"
        },
        "id": "PiYfRR3NnSj1",
        "outputId": "a62cd77a-0f40-46a9-d39f-917ce2c0f5f8"
      },
      "execution_count": 22,
      "outputs": [
        {
          "output_type": "stream",
          "name": "stdout",
          "text": [
            "      Name  Age  Salary\n",
            "1      Bob   30   60000\n",
            "2  Charlie   35   70000\n",
            "3    David   40   80000\n"
          ]
        }
      ]
    },
    {
      "cell_type": "markdown",
      "source": [
        "10.Create a histogram using Seaborn to visualize a distribution"
      ],
      "metadata": {
        "id": "Fk7Ga8renXad"
      }
    },
    {
      "cell_type": "code",
      "source": [
        "import seaborn as sns\n",
        "import matplotlib.pyplot as plt\n",
        "import numpy as np\n",
        "\n",
        "# Generate sample data (random normal distribution)\n",
        "np.random.seed(42)\n",
        "data = np.random.randn(200) * 15 + 100  # Mean=100, Std=15\n",
        "\n",
        "# Create a histogram using Seaborn\n",
        "plt.figure(figsize=(7, 5))\n",
        "sns.histplot(data, bins=20, kde=True, color='blue')\n",
        "\n",
        "# Add labels and title\n",
        "plt.xlabel(\"Value\")\n",
        "plt.ylabel(\"Frequency\")\n",
        "plt.title(\"Histogram of Sample Data\")\n",
        "\n",
        "# Show the plot\n",
        "plt.show()\n"
      ],
      "metadata": {
        "colab": {
          "base_uri": "https://localhost:8080/",
          "height": 487
        },
        "id": "ORkoHQcdnavt",
        "outputId": "15878737-55fc-474c-9327-96d2f75baf95"
      },
      "execution_count": 23,
      "outputs": [
        {
          "output_type": "display_data",
          "data": {
            "text/plain": [
              "<Figure size 700x500 with 1 Axes>"
            ],
            "image/png": "[encoded data removed]"
          },
          "metadata": {}
        }
      ]
    },
    {
      "cell_type": "markdown",
      "source": [
        "11.Perform matrix multiplication using NumPy"
      ],
      "metadata": {
        "id": "o2Ct2VRengnQ"
      }
    },
    {
      "cell_type": "code",
      "source": [
        "import numpy as np\n",
        "\n",
        "# Define two matrices\n",
        "A = np.array([[1, 2, 3],\n",
        "              [4, 5, 6]])\n",
        "\n",
        "B = np.array([[7, 8],\n",
        "              [9, 10],\n",
        "              [11, 12]])\n",
        "\n",
        "# Perform matrix multiplication\n",
        "result = np.dot(A, B)  # or use A @ B\n",
        "\n",
        "# Print the result\n",
        "print(\"Matrix A:\")\n",
        "print(A)\n",
        "\n",
        "print(\"\\nMatrix B:\")\n",
        "print(B)\n",
        "\n",
        "print(\"\\nMatrix Multiplication Result (A x B):\")\n",
        "print(result)\n"
      ],
      "metadata": {
        "colab": {
          "base_uri": "https://localhost:8080/"
        },
        "id": "kV-XPHEOnkFp",
        "outputId": "cb672a36-1f54-411d-ce26-cb5e91401c7a"
      },
      "execution_count": 24,
      "outputs": [
        {
          "output_type": "stream",
          "name": "stdout",
          "text": [
            "Matrix A:\n",
            "[[1 2 3]\n",
            " [4 5 6]]\n",
            "\n",
            "Matrix B:\n",
            "[[ 7  8]\n",
            " [ 9 10]\n",
            " [11 12]]\n",
            "\n",
            "Matrix Multiplication Result (A x B):\n",
            "[[ 58  64]\n",
            " [139 154]]\n"
          ]
        }
      ]
    },
    {
      "cell_type": "markdown",
      "source": [
        "12.Use Pandas to load a CSV file and display its first 5 rows"
      ],
      "metadata": {
        "id": "fyDjz7sqnoa1"
      }
    },
    {
      "cell_type": "code",
      "source": [
        "import pandas as pd\n",
        "\n",
        "# Create sample data\n",
        "data = {\n",
        "    'Name': ['Alice', 'Bob', 'Charlie', 'David', 'Emma'],\n",
        "    'Age': [25, 30, 35, 40, 22],\n",
        "    'Salary': [50000, 60000, 70000, 80000, 45000]\n",
        "}\n",
        "\n",
        "# Convert the data into a DataFrame\n",
        "df = pd.DataFrame(data)\n",
        "\n",
        "# Save the DataFrame to a CSV file\n",
        "df.to_csv('sample_data.csv', index=False)\n",
        "\n",
        "print(\"CSV file 'sample_data.csv' has been created successfully!\")\n",
        "\n",
        "import pandas as pd\n",
        "\n",
        "# Load the CSV file (Replace 'data.csv' with your actual file path)\n",
        "df = pd.read_csv('sample_data.csv')\n",
        "\n",
        "# Display the first 5 rows\n",
        "print(df.head())"
      ],
      "metadata": {
        "colab": {
          "base_uri": "https://localhost:8080/"
        },
        "id": "J6NRgxUmnsQR",
        "outputId": "cb15f956-acff-4528-efa3-d51f701caa79"
      },
      "execution_count": 25,
      "outputs": [
        {
          "output_type": "stream",
          "name": "stdout",
          "text": [
            "CSV file 'sample_data.csv' has been created successfully!\n",
            "      Name  Age  Salary\n",
            "0    Alice   25   50000\n",
            "1      Bob   30   60000\n",
            "2  Charlie   35   70000\n",
            "3    David   40   80000\n",
            "4     Emma   22   45000\n"
          ]
        }
      ]
    },
    {
      "cell_type": "markdown",
      "source": [
        "13.Create a 3D scatter plot using Plotly"
      ],
      "metadata": {
        "id": "5Km9MpdFn3wL"
      }
    },
    {
      "cell_type": "code",
      "source": [
        "import plotly.express as px\n",
        "import numpy as np\n",
        "import pandas as pd\n",
        "\n",
        "# Generate sample 3D data\n",
        "np.random.seed(42)\n",
        "df = pd.DataFrame({\n",
        "    'X': np.random.rand(50) * 10,\n",
        "    'Y': np.random.rand(50) * 10,\n",
        "    'Z': np.random.rand(50) * 10,\n",
        "    'Category': np.random.choice(['A', 'B', 'C'], 50)  # Random categories\n",
        "})\n",
        "\n",
        "# Create a 3D scatter plot using Plotly\n",
        "fig = px.scatter_3d(df, x='X', y='Y', z='Z', color='Category',\n",
        "                     title=\"3D Scatter Plot\",\n",
        "                     labels={'X': 'X-axis', 'Y': 'Y-axis', 'Z': 'Z-axis'})\n",
        "\n",
        "# Show the plot\n",
        "fig.show()"
      ],
      "metadata": {
        "colab": {
          "base_uri": "https://localhost:8080/",
          "height": 542
        },
        "id": "GMVGAV8Bn8M4",
        "outputId": "f580d92f-fc99-4a80-a200-db30352cf320"
      },
      "execution_count": 26,
      "outputs": [
        {
          "output_type": "display_data",
          "data": {
            "text/html": [
              "<html>\n",
              "<head><meta charset=\"utf-8\" /></head>\n",
              "<body>\n",
              "    <div>            <script src=\"https://cdnjs.cloudflare.com/ajax/libs/mathjax/2.7.5/MathJax.js?config=TeX-AMS-MML_SVG\"></script><script type=\"text/javascript\">if (window.MathJax && window.MathJax.Hub && window.MathJax.Hub.Config) {window.MathJax.Hub.Config({SVG: {font: \"STIX-Web\"}});}</script>                <script type=\"text/javascript\">window.PlotlyConfig = {MathJaxConfig: 'local'};</script>\n",
              "        <script charset=\"utf-8\" src=\"https://cdn.plot.ly/plotly-2.35.2.min.js\"></script>                <div id=\"15a00c39-6ab4-456f-9e50-8793a67c7438\" class=\"plotly-graph-div\" style=\"height:525px; width:100%;\"></div>            <script type=\"text/javascript\">                                    window.PLOTLYENV=window.PLOTLYENV || {};                                    if (document.getElementById(\"15a00c39-6ab4-456f-9e50-8793a67c7438\")) {                    Plotly.newPlot(                        \"15a00c39-6ab4-456f-9e50-8793a67c7438\",                        [{\"hovertemplate\":\"Category=A\\u003cbr\\u003eX-axis=%{x}\\u003cbr\\u003eY-axis=%{y}\\u003cbr\\u003eZ-axis=%{z}\\u003cextra\\u003e\\u003c\\u002fextra\\u003e\",\"legendgroup\":\"A\",\"marker\":{\"color\":\"#636efa\",\"symbol\":\"circle\"},\"mode\":\"markers\",\"name\":\"A\",\"scene\":\"scene\",\"showlegend\":true,\"x\":[3.745401188473625,9.50714306409916,1.5599452033620265,8.324426408004218,1.8340450985343382,1.3949386065204183,2.9214464853521815,7.851759613930136,9.656320330745594,8.08397348116461,6.842330265121569,1.2203823484477883,4.951769101112702],\"y\":[9.695846277645586,7.7513282336111455,9.218742350231167,8.287375091519294,5.426960831582485,1.987156815341724,0.05522117123602399,7.2900716804098735,3.109823217156622,3.2518332202674705,8.872127425763265,1.195942459383017,7.13244787222995],\"z\":[0.3142918568673425,6.364104112637804,2.4929222914887497,9.29697652342573,8.714605901877178,8.960912999234932,3.1800347497186388,4.271077886262563,9.429097039125192,3.2320293202075523,3.63629602379294,9.624472949421111,2.5178229582536416],\"type\":\"scatter3d\"},{\"hovertemplate\":\"Category=C\\u003cbr\\u003eX-axis=%{x}\\u003cbr\\u003eY-axis=%{y}\\u003cbr\\u003eZ-axis=%{z}\\u003cextra\\u003e\\u003c\\u002fextra\\u003e\",\"legendgroup\":\"C\",\"marker\":{\"color\":\"#EF553B\",\"symbol\":\"circle\"},\"mode\":\"markers\",\"name\":\"C\",\"scene\":\"scene\",\"showlegend\":true,\"x\":[7.319939418114051,6.011150117432088,7.080725777960454,0.20584494295802447,9.699098521619943,2.1233911067827616,2.9122914019804194,6.118528947223795,3.663618432936917,1.9967378215835974,5.142344384136116,5.924145688620425,6.075448519014383,1.7052412368729153,0.6505159298527952,9.488855372533333,3.0461376917337066,4.4015249373960135,9.093204020787821,2.587799816000169,5.200680211778108,5.4671027934327965],\"y\":[9.394989415641891,0.45227288910538066,3.2533033076326436,3.8867728968948203,2.713490317738959,3.567533266935893,9.868869366005173,7.722447692966574,8.154614284548341,7.712703466859457,0.7404465173409036,3.5846572854427263,8.631034258755935,6.232981268275579,3.308980248526492,0.6355835028602363,7.29606178338064,4.722149251619493,5.612771975694963,7.70967179954561,4.275410183585496,0.2541912674409519],\"z\":[3.143559810763267,2.2879816549162246,0.7697990982879299,2.8975145291376805,1.6122128725400442,8.08120379564417,5.393422419156507,8.074401551640625,1.1005192452767676,8.18014765922493,8.607305832563434,0.06952130531190703,4.17411003148779,2.2210781047073027,1.198653673336828,3.3761517140362796,5.187906217433661,9.717820827209607,3.0087830981676964,2.848404943774676,5.026790232288615,0.5147875124998935],\"type\":\"scatter3d\"},{\"hovertemplate\":\"Category=B\\u003cbr\\u003eX-axis=%{x}\\u003cbr\\u003eY-axis=%{y}\\u003cbr\\u003eZ-axis=%{z}\\u003cextra\\u003e\\u003c\\u002fextra\\u003e\",\"legendgroup\":\"B\",\"marker\":{\"color\":\"#00cc96\",\"symbol\":\"circle\"},\"mode\":\"markers\",\"name\":\"B\",\"scene\":\"scene\",\"showlegend\":true,\"x\":[5.986584841970366,1.5601864044243652,0.5808361216819946,8.661761457749352,1.8182496720710062,3.0424224295953772,5.247564316322379,4.319450186421157,4.56069984217036,0.46450412719997725,0.9767211400638387,0.34388521115218396,6.62522284353982,3.1171107608941098,1.8485445552552704],\"y\":[8.948273504276488,5.978999788110851,0.884925020519195,1.959828624191452,2.8093450968738076,1.4092422497476265,8.021969807540398,0.7455064367977082,7.068573438476172,1.1586905952512971,6.3755747135521315,7.607850486168974,4.937955963643907,5.227328293819941,1.0789142699330445],\"z\":[5.085706911647028,9.07566473926093,4.103829230356297,7.555511385430487,6.334037565104235,8.036720768991145,1.8657005888603584,8.925589984899778,2.279351625419417,5.107473025775658,7.030189588951778,4.972485058923855,0.36886947354532795,6.095643339798968,2.7864646423661146],\"type\":\"scatter3d\"}],                        {\"template\":{\"data\":{\"histogram2dcontour\":[{\"type\":\"histogram2dcontour\",\"colorbar\":{\"outlinewidth\":0,\"ticks\":\"\"},\"colorscale\":[[0.0,\"#0d0887\"],[0.1111111111111111,\"#46039f\"],[0.2222222222222222,\"#7201a8\"],[0.3333333333333333,\"#9c179e\"],[0.4444444444444444,\"#bd3786\"],[0.5555555555555556,\"#d8576b\"],[0.6666666666666666,\"#ed7953\"],[0.7777777777777778,\"#fb9f3a\"],[0.8888888888888888,\"#fdca26\"],[1.0,\"#f0f921\"]]}],\"choropleth\":[{\"type\":\"choropleth\",\"colorbar\":{\"outlinewidth\":0,\"ticks\":\"\"}}],\"histogram2d\":[{\"type\":\"histogram2d\",\"colorbar\":{\"outlinewidth\":0,\"ticks\":\"\"},\"colorscale\":[[0.0,\"#0d0887\"],[0.1111111111111111,\"#46039f\"],[0.2222222222222222,\"#7201a8\"],[0.3333333333333333,\"#9c179e\"],[0.4444444444444444,\"#bd3786\"],[0.5555555555555556,\"#d8576b\"],[0.6666666666666666,\"#ed7953\"],[0.7777777777777778,\"#fb9f3a\"],[0.8888888888888888,\"#fdca26\"],[1.0,\"#f0f921\"]]}],\"heatmap\":[{\"type\":\"heatmap\",\"colorbar\":{\"outlinewidth\":0,\"ticks\":\"\"},\"colorscale\":[[0.0,\"#0d0887\"],[0.1111111111111111,\"#46039f\"],[0.2222222222222222,\"#7201a8\"],[0.3333333333333333,\"#9c179e\"],[0.4444444444444444,\"#bd3786\"],[0.5555555555555556,\"#d8576b\"],[0.6666666666666666,\"#ed7953\"],[0.7777777777777778,\"#fb9f3a\"],[0.8888888888888888,\"#fdca26\"],[1.0,\"#f0f921\"]]}],\"heatmapgl\":[{\"type\":\"heatmapgl\",\"colorbar\":{\"outlinewidth\":0,\"ticks\":\"\"},\"colorscale\":[[0.0,\"#0d0887\"],[0.1111111111111111,\"#46039f\"],[0.2222222222222222,\"#7201a8\"],[0.3333333333333333,\"#9c179e\"],[0.4444444444444444,\"#bd3786\"],[0.5555555555555556,\"#d8576b\"],[0.6666666666666666,\"#ed7953\"],[0.7777777777777778,\"#fb9f3a\"],[0.8888888888888888,\"#fdca26\"],[1.0,\"#f0f921\"]]}],\"contourcarpet\":[{\"type\":\"contourcarpet\",\"colorbar\":{\"outlinewidth\":0,\"ticks\":\"\"}}],\"contour\":[{\"type\":\"contour\",\"colorbar\":{\"outlinewidth\":0,\"ticks\":\"\"},\"colorscale\":[[0.0,\"#0d0887\"],[0.1111111111111111,\"#46039f\"],[0.2222222222222222,\"#7201a8\"],[0.3333333333333333,\"#9c179e\"],[0.4444444444444444,\"#bd3786\"],[0.5555555555555556,\"#d8576b\"],[0.6666666666666666,\"#ed7953\"],[0.7777777777777778,\"#fb9f3a\"],[0.8888888888888888,\"#fdca26\"],[1.0,\"#f0f921\"]]}],\"surface\":[{\"type\":\"surface\",\"colorbar\":{\"outlinewidth\":0,\"ticks\":\"\"},\"colorscale\":[[0.0,\"#0d0887\"],[0.1111111111111111,\"#46039f\"],[0.2222222222222222,\"#7201a8\"],[0.3333333333333333,\"#9c179e\"],[0.4444444444444444,\"#bd3786\"],[0.5555555555555556,\"#d8576b\"],[0.6666666666666666,\"#ed7953\"],[0.7777777777777778,\"#fb9f3a\"],[0.8888888888888888,\"#fdca26\"],[1.0,\"#f0f921\"]]}],\"mesh3d\":[{\"type\":\"mesh3d\",\"colorbar\":{\"outlinewidth\":0,\"ticks\":\"\"}}],\"scatter\":[{\"fillpattern\":{\"fillmode\":\"overlay\",\"size\":10,\"solidity\":0.2},\"type\":\"scatter\"}],\"parcoords\":[{\"type\":\"parcoords\",\"line\":{\"colorbar\":{\"outlinewidth\":0,\"ticks\":\"\"}}}],\"scatterpolargl\":[{\"type\":\"scatterpolargl\",\"marker\":{\"colorbar\":{\"outlinewidth\":0,\"ticks\":\"\"}}}],\"bar\":[{\"error_x\":{\"color\":\"#2a3f5f\"},\"error_y\":{\"color\":\"#2a3f5f\"},\"marker\":{\"line\":{\"color\":\"#E5ECF6\",\"width\":0.5},\"pattern\":{\"fillmode\":\"overlay\",\"size\":10,\"solidity\":0.2}},\"type\":\"bar\"}],\"scattergeo\":[{\"type\":\"scattergeo\",\"marker\":{\"colorbar\":{\"outlinewidth\":0,\"ticks\":\"\"}}}],\"scatterpolar\":[{\"type\":\"scatterpolar\",\"marker\":{\"colorbar\":{\"outlinewidth\":0,\"ticks\":\"\"}}}],\"histogram\":[{\"marker\":{\"pattern\":{\"fillmode\":\"overlay\",\"size\":10,\"solidity\":0.2}},\"type\":\"histogram\"}],\"scattergl\":[{\"type\":\"scattergl\",\"marker\":{\"colorbar\":{\"outlinewidth\":0,\"ticks\":\"\"}}}],\"scatter3d\":[{\"type\":\"scatter3d\",\"line\":{\"colorbar\":{\"outlinewidth\":0,\"ticks\":\"\"}},\"marker\":{\"colorbar\":{\"outlinewidth\":0,\"ticks\":\"\"}}}],\"scattermapbox\":[{\"type\":\"scattermapbox\",\"marker\":{\"colorbar\":{\"outlinewidth\":0,\"ticks\":\"\"}}}],\"scatterternary\":[{\"type\":\"scatterternary\",\"marker\":{\"colorbar\":{\"outlinewidth\":0,\"ticks\":\"\"}}}],\"scattercarpet\":[{\"type\":\"scattercarpet\",\"marker\":{\"colorbar\":{\"outlinewidth\":0,\"ticks\":\"\"}}}],\"carpet\":[{\"aaxis\":{\"endlinecolor\":\"#2a3f5f\",\"gridcolor\":\"white\",\"linecolor\":\"white\",\"minorgridcolor\":\"white\",\"startlinecolor\":\"#2a3f5f\"},\"baxis\":{\"endlinecolor\":\"#2a3f5f\",\"gridcolor\":\"white\",\"linecolor\":\"white\",\"minorgridcolor\":\"white\",\"startlinecolor\":\"#2a3f5f\"},\"type\":\"carpet\"}],\"table\":[{\"cells\":{\"fill\":{\"color\":\"#EBF0F8\"},\"line\":{\"color\":\"white\"}},\"header\":{\"fill\":{\"color\":\"#C8D4E3\"},\"line\":{\"color\":\"white\"}},\"type\":\"table\"}],\"barpolar\":[{\"marker\":{\"line\":{\"color\":\"#E5ECF6\",\"width\":0.5},\"pattern\":{\"fillmode\":\"overlay\",\"size\":10,\"solidity\":0.2}},\"type\":\"barpolar\"}],\"pie\":[{\"automargin\":true,\"type\":\"pie\"}]},\"layout\":{\"autotypenumbers\":\"strict\",\"colorway\":[\"#636efa\",\"#EF553B\",\"#00cc96\",\"#ab63fa\",\"#FFA15A\",\"#19d3f3\",\"#FF6692\",\"#B6E880\",\"#FF97FF\",\"#FECB52\"],\"font\":{\"color\":\"#2a3f5f\"},\"hovermode\":\"closest\",\"hoverlabel\":{\"align\":\"left\"},\"paper_bgcolor\":\"white\",\"plot_bgcolor\":\"#E5ECF6\",\"polar\":{\"bgcolor\":\"#E5ECF6\",\"angularaxis\":{\"gridcolor\":\"white\",\"linecolor\":\"white\",\"ticks\":\"\"},\"radialaxis\":{\"gridcolor\":\"white\",\"linecolor\":\"white\",\"ticks\":\"\"}},\"ternary\":{\"bgcolor\":\"#E5ECF6\",\"aaxis\":{\"gridcolor\":\"white\",\"linecolor\":\"white\",\"ticks\":\"\"},\"baxis\":{\"gridcolor\":\"white\",\"linecolor\":\"white\",\"ticks\":\"\"},\"caxis\":{\"gridcolor\":\"white\",\"linecolor\":\"white\",\"ticks\":\"\"}},\"coloraxis\":{\"colorbar\":{\"outlinewidth\":0,\"ticks\":\"\"}},\"colorscale\":{\"sequential\":[[0.0,\"#0d0887\"],[0.1111111111111111,\"#46039f\"],[0.2222222222222222,\"#7201a8\"],[0.3333333333333333,\"#9c179e\"],[0.4444444444444444,\"#bd3786\"],[0.5555555555555556,\"#d8576b\"],[0.6666666666666666,\"#ed7953\"],[0.7777777777777778,\"#fb9f3a\"],[0.8888888888888888,\"#fdca26\"],[1.0,\"#f0f921\"]],\"sequentialminus\":[[0.0,\"#0d0887\"],[0.1111111111111111,\"#46039f\"],[0.2222222222222222,\"#7201a8\"],[0.3333333333333333,\"#9c179e\"],[0.4444444444444444,\"#bd3786\"],[0.5555555555555556,\"#d8576b\"],[0.6666666666666666,\"#ed7953\"],[0.7777777777777778,\"#fb9f3a\"],[0.8888888888888888,\"#fdca26\"],[1.0,\"#f0f921\"]],\"diverging\":[[0,\"#8e0152\"],[0.1,\"#c51b7d\"],[0.2,\"#de77ae\"],[0.3,\"#f1b6da\"],[0.4,\"#fde0ef\"],[0.5,\"#f7f7f7\"],[0.6,\"#e6f5d0\"],[0.7,\"#b8e186\"],[0.8,\"#7fbc41\"],[0.9,\"#4d9221\"],[1,\"#276419\"]]},\"xaxis\":{\"gridcolor\":\"white\",\"linecolor\":\"white\",\"ticks\":\"\",\"title\":{\"standoff\":15},\"zerolinecolor\":\"white\",\"automargin\":true,\"zerolinewidth\":2},\"yaxis\":{\"gridcolor\":\"white\",\"linecolor\":\"white\",\"ticks\":\"\",\"title\":{\"standoff\":15},\"zerolinecolor\":\"white\",\"automargin\":true,\"zerolinewidth\":2},\"scene\":{\"xaxis\":{\"backgroundcolor\":\"#E5ECF6\",\"gridcolor\":\"white\",\"linecolor\":\"white\",\"showbackground\":true,\"ticks\":\"\",\"zerolinecolor\":\"white\",\"gridwidth\":2},\"yaxis\":{\"backgroundcolor\":\"#E5ECF6\",\"gridcolor\":\"white\",\"linecolor\":\"white\",\"showbackground\":true,\"ticks\":\"\",\"zerolinecolor\":\"white\",\"gridwidth\":2},\"zaxis\":{\"backgroundcolor\":\"#E5ECF6\",\"gridcolor\":\"white\",\"linecolor\":\"white\",\"showbackground\":true,\"ticks\":\"\",\"zerolinecolor\":\"white\",\"gridwidth\":2}},\"shapedefaults\":{\"line\":{\"color\":\"#2a3f5f\"}},\"annotationdefaults\":{\"arrowcolor\":\"#2a3f5f\",\"arrowhead\":0,\"arrowwidth\":1},\"geo\":{\"bgcolor\":\"white\",\"landcolor\":\"#E5ECF6\",\"subunitcolor\":\"white\",\"showland\":true,\"showlakes\":true,\"lakecolor\":\"white\"},\"title\":{\"x\":0.05},\"mapbox\":{\"style\":\"light\"}}},\"scene\":{\"domain\":{\"x\":[0.0,1.0],\"y\":[0.0,1.0]},\"xaxis\":{\"title\":{\"text\":\"X-axis\"}},\"yaxis\":{\"title\":{\"text\":\"Y-axis\"}},\"zaxis\":{\"title\":{\"text\":\"Z-axis\"}}},\"legend\":{\"title\":{\"text\":\"Category\"},\"tracegroupgap\":0},\"title\":{\"text\":\"3D Scatter Plot\"}},                        {\"responsive\": true}                    ).then(function(){\n",
              "                            \n",
              "var gd = document.getElementById('15a00c39-6ab4-456f-9e50-8793a67c7438');\n",
              "var x = new MutationObserver(function (mutations, observer) {{\n",
              "        var display = window.getComputedStyle(gd).display;\n",
              "        if (!display || display === 'none') {{\n",
              "            console.log([gd, 'removed!']);\n",
              "            Plotly.purge(gd);\n",
              "            observer.disconnect();\n",
              "        }}\n",
              "}});\n",
              "\n",
              "// Listen for the removal of the full notebook cells\n",
              "var notebookContainer = gd.closest('#notebook-container');\n",
              "if (notebookContainer) {{\n",
              "    x.observe(notebookContainer, {childList: true});\n",
              "}}\n",
              "\n",
              "// Listen for the clearing of the current output cell\n",
              "var outputEl = gd.closest('.output');\n",
              "if (outputEl) {{\n",
              "    x.observe(outputEl, {childList: true});\n",
              "}}\n",
              "\n",
              "                        })                };                            </script>        </div>\n",
              "</body>\n",
              "</html>"
            ]
          },
          "metadata": {}
        }
      ]
    }
  ],
  "metadata": {
    "colab": {
      "provenance": []
    },
    "kernelspec": {
      "display_name": "Python 3",
      "name": "python3"
    },
    "language_info": {
      "name": "python"
    }
  },
  "nbformat": 4,
  "nbformat_minor": 0
}